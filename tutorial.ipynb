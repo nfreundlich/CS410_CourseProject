{
 "cells": [
  {
   "cell_type": "markdown",
   "metadata": {},
   "source": [
    "# Tutorial"
   ]
  },
  {
   "cell_type": "markdown",
   "metadata": {},
   "source": [
    "## Detect implicit features from a data set."
   ]
  },
  {
   "cell_type": "markdown",
   "metadata": {},
   "source": [
    "### Import modules"
   ]
  },
  {
   "cell_type": "code",
   "execution_count": 69,
   "metadata": {},
   "outputs": [
    {
     "ename": "ImportError",
     "evalue": "cannot import name 'EmVectorByFeature' from 'feature_mining' (/Users/nfreundl/Documents/PyCharm/test_pip3/venv/lib/python3.7/site-packages/feature_mining/__init__.py)",
     "traceback": [
      "\u001b[0;31m---------------------------------------------------------------------------\u001b[0m",
      "\u001b[0;31mImportError\u001b[0m                               Traceback (most recent call last)",
      "\u001b[0;32m<ipython-input-69-ecbafc25aa7b>\u001b[0m in \u001b[0;36m<module>\u001b[0;34m()\u001b[0m\n\u001b[1;32m      5\u001b[0m \u001b[0;32mimport\u001b[0m \u001b[0mfeature_mining\u001b[0m\u001b[0;34m\u001b[0m\u001b[0;34m\u001b[0m\u001b[0m\n\u001b[1;32m      6\u001b[0m \u001b[0;32mfrom\u001b[0m \u001b[0mfeature_mining\u001b[0m \u001b[0;32mimport\u001b[0m \u001b[0mParseAndModel\u001b[0m\u001b[0;34m\u001b[0m\u001b[0;34m\u001b[0m\u001b[0m\n\u001b[0;32m----> 7\u001b[0;31m \u001b[0;32mfrom\u001b[0m \u001b[0mfeature_mining\u001b[0m \u001b[0;32mimport\u001b[0m \u001b[0mEmVectorByFeature\u001b[0m\u001b[0;34m\u001b[0m\u001b[0;34m\u001b[0m\u001b[0m\n\u001b[0m\u001b[1;32m      8\u001b[0m \u001b[0;32mimport\u001b[0m \u001b[0mpandas\u001b[0m \u001b[0;32mas\u001b[0m \u001b[0mpd\u001b[0m\u001b[0;34m\u001b[0m\u001b[0;34m\u001b[0m\u001b[0m\n\u001b[1;32m      9\u001b[0m \u001b[0;32mimport\u001b[0m \u001b[0men_core_web_sm\u001b[0m\u001b[0;34m\u001b[0m\u001b[0;34m\u001b[0m\u001b[0m\n",
      "\u001b[0;31mImportError\u001b[0m: cannot import name 'EmVectorByFeature' from 'feature_mining' (/Users/nfreundl/Documents/PyCharm/test_pip3/venv/lib/python3.7/site-packages/feature_mining/__init__.py)"
     ],
     "output_type": "error"
    }
   ],
   "source": [
    "\"\"\"\n",
    "Import feature_mining module.\n",
    "Import ParseAndModel.\n",
    "\"\"\"\n",
    "import feature_mining\n",
    "from feature_mining import ParseAndModel\n",
    "from feature_mining import EmVectorByFeature\n",
    "import pandas as pd\n",
    "import en_core_web_sm\n",
    "from pprint import pprint"
   ]
  },
  {
   "cell_type": "markdown",
   "metadata": {},
   "source": [
    "## Load the demo files"
   ]
  },
  {
   "cell_type": "code",
   "execution_count": 50,
   "metadata": {},
   "outputs": [
    {
     "name": "stdout",
     "output_type": "stream",
     "text": [
      "dict_keys(['model_background', 'model_feature', 'section_word_counts_matrix', 'model_background_matrix', 'model_feature_matrix', 'vocabulary_lookup'])\n"
     ]
    }
   ],
   "source": [
    "# Create a model based on a predefined list of features and an input data file.\n",
    "feature_list=[\"sound\", \"battery\", [\"screen\", \"display\"]]\n",
    "filename='./iPod.final'\n",
    "pm = ParseAndModel(feature_list=feature_list,   # list of features\n",
    "                   filename = filename,         # file with input data\n",
    "                   nlines=100)                  # number of lines to read\n",
    "\n",
    "print(pm.model_results.keys())"
   ]
  },
  {
   "cell_type": "markdown",
   "metadata": {},
   "source": [
    "Load model from test files.\n",
    "For a real-life dataset, download this file: https://raw.githubusercontent.com/nfreundlich/CS410_CourseProject/dev/tests/data/parse_and_model/iPod.final"
   ]
  },
  {
   "cell_type": "markdown",
   "metadata": {},
   "source": [
    "## Inspect the model"
   ]
  },
  {
   "cell_type": "code",
   "execution_count": 65,
   "metadata": {},
   "outputs": [
    {
     "name": "stdout",
     "output_type": "stream",
     "text": [
      "dict_keys(['model_background', 'model_feature', 'section_word_counts_matrix', 'model_background_matrix', 'model_feature_matrix', 'vocabulary_lookup'])\n",
      "Model background\n",
      "[0.004310344827586207,\n",
      " 0.004310344827586207,\n",
      " 0.01293103448275862,\n",
      " 0.05603448275862069,\n",
      " 0.023706896551724137,\n",
      " 0.0021551724137931034,\n",
      " 0.017241379310344827]\n",
      "Feature model\n",
      "[0.0035684588810039313, 0.0035684588810039313]\n",
      "Section word counts matrix (sentence/line) - sparse\n",
      "<1x258 sparse matrix of type '<class 'numpy.float64'>'\n",
      "\twith 1 stored elements in Compressed Sparse Row format>\n",
      "Background model matrix - sparse\n",
      "<1x258 sparse matrix of type '<class 'numpy.float64'>'\n",
      "\twith 258 stored elements in Compressed Sparse Row format>\n",
      "Feature model matrix\n",
      "array([[0.00356846, 0.00336429, 0.00363519],\n",
      "       [0.00356846, 0.00336429, 0.00363519]])\n",
      "Vocabulary words\n",
      "'pleased'\n"
     ]
    }
   ],
   "source": [
    "# Keys in the model dictionary\n",
    "print(pm.model_results.keys())\n",
    "\n",
    "# Language background model\n",
    "print(\"Model background\")\n",
    "pprint.pprint(pm.model_results['model_background'][0:7])\n",
    "\n",
    "# Feature model\n",
    "print(\"Feature model\")\n",
    "pprint.pprint(pm.model_results['model_feature'][0][0:2])\n",
    "\n",
    "# Word counts per section matrix (sentence/line)\n",
    "print(\"Section word counts matrix (sentence/line) - sparse\")\n",
    "pprint.pprint(pm.model_results['section_word_counts_matrix'][0][0:2])\n",
    "\n",
    "# Background model matrix - sparse\n",
    "print(\"Background model matrix - sparse\")\n",
    "pprint.pprint(pm.model_results['model_background_matrix'][0][0:2])\n",
    "\n",
    "# Feature model matrix\n",
    "print(\"Feature model matrix\")\n",
    "pprint.pprint(pm.model_results['model_feature_matrix'][0:2][0:])\n",
    "\n",
    "# Vocabulary words\n",
    "print(\"Vocabulary words\")\n",
    "pprint.pprint(pm.model_results['vocabulary_lookup'][0])"
   ]
  },
  {
   "cell_type": "markdown",
   "metadata": {},
   "source": [
    "### Launch Expectation Maximization on the features"
   ]
  },
  {
   "cell_type": "code",
   "execution_count": 70,
   "metadata": {},
   "outputs": [
    {
     "name": "stdout",
     "output_type": "stream",
     "text": [
      "Calling EMVectorByFeature\n"
     ]
    },
    {
     "ename": "AttributeError",
     "evalue": "module 'feature_mining' has no attribute 'EmVectorByFeature'",
     "traceback": [
      "\u001b[0;31m---------------------------------------------------------------------------\u001b[0m",
      "\u001b[0;31mAttributeError\u001b[0m                            Traceback (most recent call last)",
      "\u001b[0;32m<ipython-input-70-fcb51888f022>\u001b[0m in \u001b[0;36m<module>\u001b[0;34m()\u001b[0m\n\u001b[1;32m      1\u001b[0m \u001b[0mprint\u001b[0m\u001b[0;34m(\u001b[0m\u001b[0;34m\"Calling EMVectorByFeature\"\u001b[0m\u001b[0;34m)\u001b[0m\u001b[0;34m\u001b[0m\u001b[0;34m\u001b[0m\u001b[0m\n\u001b[0;32m----> 2\u001b[0;31m em = feature_mining.EmVectorByFeature(explicit_model=pm,\n\u001b[0m\u001b[1;32m      3\u001b[0m                        max_iter=30)\n\u001b[1;32m      4\u001b[0m \u001b[0mem\u001b[0m\u001b[0;34m.\u001b[0m\u001b[0mem\u001b[0m\u001b[0;34m(\u001b[0m\u001b[0;34m)\u001b[0m\u001b[0;34m\u001b[0m\u001b[0;34m\u001b[0m\u001b[0m\n",
      "\u001b[0;31mAttributeError\u001b[0m: module 'feature_mining' has no attribute 'EmVectorByFeature'"
     ],
     "output_type": "error"
    }
   ],
   "source": [
    "print(\"Calling EMVectorByFeature\")\n",
    "em = EmVectorByFeature(explicit_model=pm,\n",
    "                       max_iter=30)\n",
    "em.em()"
   ]
  },
  {
   "cell_type": "code",
   "execution_count": null,
   "metadata": {},
   "outputs": [],
   "source": []
  }
 ],
 "metadata": {
  "kernelspec": {
   "display_name": "Python 3",
   "language": "python",
   "name": "python3"
  },
  "language_info": {
   "codemirror_mode": {
    "name": "ipython",
    "version": 3
   },
   "file_extension": ".py",
   "mimetype": "text/x-python",
   "name": "python",
   "nbconvert_exporter": "python",
   "pygments_lexer": "ipython3",
   "version": "3.7.1"
  }
 },
 "nbformat": 4,
 "nbformat_minor": 1
}
