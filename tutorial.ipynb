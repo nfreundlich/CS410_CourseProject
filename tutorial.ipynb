{
 "cells": [
  {
   "cell_type": "markdown",
   "metadata": {},
   "source": [
    "# Tutorial: GFLM for implicit feature detection"
   ]
  },
  {
   "cell_type": "markdown",
   "metadata": {},
   "source": [
    "## Description\n",
    "This tutorial will guide you through the usage of the feature_mining package.\n",
    "It contains two parts:\n",
    "* quick start guide, using the default workflow; this should be enough to get you started\n",
    "* a more detailed step-by-step guide, if you want to fine-tune some of the parameters\n",
    "\n",
    "## Goal\n",
    "#### Given the following:\n",
    "* a text dataset\n",
    "* a set of predefined features\n",
    "\n",
    "#### Compute the following:\n",
    "* mapping of explicit and implicit features on the data\n",
    "* using both gflm_word and gflm_section algorithms\n",
    "\n",
    "## Naming conventions\n",
    "We will use the folowwing naming conventions:\n",
    "* section = one line of the reviews data; roughly equivalent to one sentence\n",
    "* pm = ParseAndModel module\n",
    "* em = Expectation Maximization module\n",
    "* gflm = Generative Feature Language Model"
   ]
  },
  {
   "cell_type": "markdown",
   "metadata": {},
   "source": [
    "# 1. Quick start guide\n",
    "Use this to jump right in detecting implicit features in a text.\n",
    "\n",
    "**Prerequisite:**\n",
    "If you did not install the feature_mining module, you can do it using the following command:\n",
    "```\n",
    "pip install feature_mining\n",
    "```"
   ]
  },
  {
   "cell_type": "markdown",
   "metadata": {},
   "source": [
    "## 1.1 Import the module and instantiate a FeatureMining object"
   ]
  },
  {
   "cell_type": "code",
   "execution_count": null,
   "metadata": {
    "scrolled": false
   },
   "outputs": [],
   "source": [
    "import feature_mining\n",
    "fm = feature_mining.FeatureMining()"
   ]
  },
  {
   "cell_type": "markdown",
   "metadata": {},
   "source": [
    "## 1.2 Load the demo files\n",
    "The package comes with a demo data set, based on iPod reviews.\n",
    "We have already initialized a **default set of features** which will be mapped on each section of the review."
   ]
  },
  {
   "cell_type": "code",
   "execution_count": null,
   "metadata": {
    "scrolled": false
   },
   "outputs": [],
   "source": [
    "# Load default dataset with default feature set\n",
    "fm.load_ipod(full_set=False)"
   ]
  },
  {
   "cell_type": "markdown",
   "metadata": {},
   "source": [
    "## 1.3 Execute Expectation-Maximization on iPod dataset"
   ]
  },
  {
   "cell_type": "code",
   "execution_count": null,
   "metadata": {
    "scrolled": false
   },
   "outputs": [],
   "source": [
    "## Executes Expectation-Maximization on previously loaded data.\n",
    "fm.fit()"
   ]
  },
  {
   "cell_type": "markdown",
   "metadata": {},
   "source": [
    "## 1.4 Compute feature mapping"
   ]
  },
  {
   "cell_type": "code",
   "execution_count": null,
   "metadata": {
    "scrolled": false
   },
   "outputs": [],
   "source": [
    "fm.predict()"
   ]
  },
  {
   "cell_type": "markdown",
   "metadata": {},
   "source": [
    "## 1.5 Inspect the results\n",
    "* **gflm_word** and **gflm_section** are the values computed by gflm\n",
    "* **section_id** is the section to which the value refers (the sentence)\n",
    "* **implicit_feature_id** is the feature detected in the section"
   ]
  },
  {
   "cell_type": "code",
   "execution_count": null,
   "metadata": {
    "scrolled": false
   },
   "outputs": [],
   "source": [
    "print(fm.gflm.gflm_word.head(10))\n",
    "print(fm.gflm.gflm_section.tail(10))"
   ]
  },
  {
   "cell_type": "markdown",
   "metadata": {},
   "source": [
    "## 1.6 Putting it together\n",
    "Let's see now how these features map to their original sequences (the sentences of the reviews)."
   ]
  },
  {
   "cell_type": "markdown",
   "metadata": {},
   "source": [
    "**Remark:** during this demo, we have used a subset of the review sentences;\n",
    "     you can try the full dataset using **full_set=True** in load_ipod()."
   ]
  },
  {
   "cell_type": "code",
   "execution_count": null,
   "metadata": {
    "scrolled": false
   },
   "outputs": [],
   "source": [
    "fm.section_features()\n",
    "fm.gflm_section_result.sort_values(by=['gflm_section'], ascending=False)[['feature', 'section_text']].head(50)"
   ]
  },
  {
   "cell_type": "markdown",
   "metadata": {},
   "source": [
    "# 2. Detailed guide\n",
    "Use this procedure if you want to know more about the internal workings of the project, or if you wish to fine-tune some of its parameters."
   ]
  },
  {
   "cell_type": "markdown",
   "metadata": {},
   "source": [
    "## 2.1 Import modules"
   ]
  },
  {
   "cell_type": "code",
   "execution_count": null,
   "metadata": {
    "scrolled": false
   },
   "outputs": [],
   "source": [
    "\"\"\"\n",
    "Import feature_mining module.\n",
    "Import ParseAndModel.\n",
    "\"\"\"\n",
    "import feature_mining\n",
    "from feature_mining import ParseAndModel\n",
    "from feature_mining import EmVectorByFeature\n",
    "from feature_mining import GFLM\n",
    "import pandas as pd\n",
    "import en_core_web_sm\n",
    "from pprint import pprint"
   ]
  },
  {
   "cell_type": "markdown",
   "metadata": {},
   "source": [
    "## 2.2 Load the demo files"
   ]
  },
  {
   "cell_type": "code",
   "execution_count": null,
   "metadata": {
    "scrolled": false
   },
   "outputs": [],
   "source": [
    "# Create a model based on a predefined list of features and an input data file.\n",
    "import pkg_resources\n",
    "filename = pkg_resources.resource_filename('feature_mining', 'data/iPod.final')\n",
    "feature_list=[\"sound\", \"battery\", [\"screen\", \"display\"]]\n",
    "\n",
    "pm = ParseAndModel(feature_list=feature_list,   # list of features\n",
    "                   filename = filename,         # file with input data\n",
    "                   nlines=100)                  # number of lines to read\n",
    "\n",
    "print(pm.model_results.keys())"
   ]
  },
  {
   "cell_type": "markdown",
   "metadata": {},
   "source": [
    "## 2.3 Inspect the model"
   ]
  },
  {
   "cell_type": "code",
   "execution_count": null,
   "metadata": {
    "scrolled": false
   },
   "outputs": [],
   "source": [
    "# Keys in the model dictionary\n",
    "print(pm.model_results.keys())\n",
    "\n",
    "# Language background model\n",
    "print(\"Model background\")\n",
    "pprint(pm.model_results['model_background'][0:7])\n",
    "\n",
    "# Feature model\n",
    "print(\"Feature model\")\n",
    "pprint(pm.model_results['model_feature'][0][0:2])\n",
    "\n",
    "# Word counts per section matrix (sentence/line)\n",
    "print(\"Section word counts matrix (sentence/line) - sparse\")\n",
    "pprint(pm.model_results['section_word_counts_matrix'][0][0:2])\n",
    "\n",
    "# Background model matrix - sparse\n",
    "print(\"Background model matrix - sparse\")\n",
    "pprint(pm.model_results['model_background_matrix'][0][0:2])\n",
    "\n",
    "# Feature model matrix\n",
    "print(\"Feature model matrix\")\n",
    "pprint(pm.model_results['model_feature_matrix'][0:2][0:])\n",
    "\n",
    "# Vocabulary words\n",
    "print(\"Vocabulary words\")\n",
    "pprint(pm.model_results['vocabulary_lookup'][0])"
   ]
  },
  {
   "cell_type": "markdown",
   "metadata": {},
   "source": [
    "## 2.4 Launch Expectation Maximization on the features"
   ]
  },
  {
   "cell_type": "code",
   "execution_count": null,
   "metadata": {
    "scrolled": false
   },
   "outputs": [],
   "source": [
    "print(\"Calling EMVectorByFeature\")\n",
    "em = EmVectorByFeature(explicit_model=pm,\n",
    "                       max_iter=30)\n",
    "em.em()"
   ]
  },
  {
   "cell_type": "markdown",
   "metadata": {},
   "source": [
    "## 2.5 Compute GFLM"
   ]
  },
  {
   "cell_type": "code",
   "execution_count": null,
   "metadata": {
    "scrolled": false
   },
   "outputs": [],
   "source": [
    "gflm = GFLM(em_results=em, section_threshold=0.35, word_threshold=0.35)\n",
    "gflm.calc_gflm_section()\n",
    "gflm.calc_gflm_word()\n",
    "\n",
    "print(gflm.gflm_word.head(20))\n",
    "print(gflm.gflm_section.head(20))"
   ]
  },
  {
   "cell_type": "code",
   "execution_count": null,
   "metadata": {
    "scrolled": false
   },
   "outputs": [],
   "source": []
  }
 ],
 "metadata": {
  "kernelspec": {
   "display_name": "Python 3",
   "language": "python",
   "name": "python3"
  },
  "language_info": {
   "codemirror_mode": {
    "name": "ipython",
    "version": 3
   },
   "file_extension": ".py",
   "mimetype": "text/x-python",
   "name": "python",
   "nbconvert_exporter": "python",
   "pygments_lexer": "ipython3",
   "version": "3.7.1"
  }
 },
 "nbformat": 4,
 "nbformat_minor": 1
}
