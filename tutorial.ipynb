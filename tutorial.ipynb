{
 "cells": [
  {
   "cell_type": "markdown",
   "metadata": {},
   "source": [
    "# Tutorial"
   ]
  },
  {
   "cell_type": "markdown",
   "metadata": {},
   "source": [
    "## Detect implicit features from a data set."
   ]
  },
  {
   "cell_type": "markdown",
   "metadata": {},
   "source": [
    "### Import modules"
   ]
  },
  {
   "cell_type": "code",
   "execution_count": 6,
   "metadata": {},
   "outputs": [],
   "source": [
    "\"\"\"\n",
    "Import feature_mining module.\n",
    "Import ParseAndModel.\n",
    "\"\"\"\n",
    "import feature_mining\n",
    "from feature_mining import ParseAndModel\n",
    "from feature_mining import EmVectorByFeature\n",
    "from feature_mining import GFLM\n",
    "import pandas as pd\n",
    "import en_core_web_sm\n",
    "from pprint import pprint"
   ]
  },
  {
   "cell_type": "markdown",
   "metadata": {},
   "source": [
    "## Load the demo files"
   ]
  },
  {
   "cell_type": "code",
   "execution_count": 7,
   "metadata": {},
   "outputs": [
    {
     "name": "stdout",
     "output_type": "stream",
     "text": [
      "dict_keys(['model_background', 'model_feature', 'section_word_counts_matrix', 'model_background_matrix', 'model_feature_matrix', 'vocabulary_lookup'])\n"
     ]
    }
   ],
   "source": [
    "# Create a model based on a predefined list of features and an input data file.\n",
    "feature_list=[\"sound\", \"battery\", [\"screen\", \"display\"]]\n",
    "filename='./iPod.final'\n",
    "pm = ParseAndModel(feature_list=feature_list,   # list of features\n",
    "                   filename = filename,         # file with input data\n",
    "                   nlines=100)                  # number of lines to read\n",
    "\n",
    "print(pm.model_results.keys())"
   ]
  },
  {
   "cell_type": "markdown",
   "metadata": {},
   "source": [
    "Load model from test files.\n",
    "For a real-life dataset, download this file: https://raw.githubusercontent.com/nfreundlich/CS410_CourseProject/dev/tests/data/parse_and_model/iPod.final"
   ]
  },
  {
   "cell_type": "markdown",
   "metadata": {},
   "source": [
    "## Inspect the model"
   ]
  },
  {
   "cell_type": "code",
   "execution_count": 8,
   "metadata": {},
   "outputs": [
    {
     "name": "stdout",
     "output_type": "stream",
     "text": [
      "dict_keys(['model_background', 'model_feature', 'section_word_counts_matrix', 'model_background_matrix', 'model_feature_matrix', 'vocabulary_lookup'])\n",
      "Model background\n",
      "[0.004310344827586207,\n",
      " 0.004310344827586207,\n",
      " 0.01293103448275862,\n",
      " 0.05603448275862069,\n",
      " 0.023706896551724137,\n",
      " 0.0021551724137931034,\n",
      " 0.017241379310344827]\n",
      "Feature model\n",
      "[0.0035684588810039313, 0.0035684588810039313]\n",
      "Section word counts matrix (sentence/line) - sparse\n",
      "<1x258 sparse matrix of type '<class 'numpy.float64'>'\n",
      "\twith 1 stored elements in Compressed Sparse Row format>\n",
      "Background model matrix - sparse\n",
      "<1x258 sparse matrix of type '<class 'numpy.float64'>'\n",
      "\twith 258 stored elements in Compressed Sparse Row format>\n",
      "Feature model matrix\n",
      "array([[0.00356846, 0.00336429, 0.00363519],\n",
      "       [0.00356846, 0.00336429, 0.00363519]])\n",
      "Vocabulary words\n",
      "'pleased'\n"
     ]
    }
   ],
   "source": [
    "# Keys in the model dictionary\n",
    "print(pm.model_results.keys())\n",
    "\n",
    "# Language background model\n",
    "print(\"Model background\")\n",
    "pprint(pm.model_results['model_background'][0:7])\n",
    "\n",
    "# Feature model\n",
    "print(\"Feature model\")\n",
    "pprint(pm.model_results['model_feature'][0][0:2])\n",
    "\n",
    "# Word counts per section matrix (sentence/line)\n",
    "print(\"Section word counts matrix (sentence/line) - sparse\")\n",
    "pprint(pm.model_results['section_word_counts_matrix'][0][0:2])\n",
    "\n",
    "# Background model matrix - sparse\n",
    "print(\"Background model matrix - sparse\")\n",
    "pprint(pm.model_results['model_background_matrix'][0][0:2])\n",
    "\n",
    "# Feature model matrix\n",
    "print(\"Feature model matrix\")\n",
    "pprint(pm.model_results['model_feature_matrix'][0:2][0:])\n",
    "\n",
    "# Vocabulary words\n",
    "print(\"Vocabulary words\")\n",
    "pprint(pm.model_results['vocabulary_lookup'][0])"
   ]
  },
  {
   "cell_type": "markdown",
   "metadata": {},
   "source": [
    "### Launch Expectation Maximization on the features"
   ]
  },
  {
   "cell_type": "code",
   "execution_count": 9,
   "metadata": {},
   "outputs": [
    {
     "name": "stdout",
     "output_type": "stream",
     "text": [
      "Calling EMVectorByFeature\n",
      "EmVectorByFeature - base init...\n",
      "EmVectorByFeature - base loop...\n",
      "------------------------------------------------------------\n",
      "-------------------- Running Iteration: 0 --------------------\n",
      "------------------------------------------------------------\n",
      "Elapsed on iteration: 0.008 seconds\n",
      "------------------------------------------------------------\n",
      "-------------------- Running Iteration: 1 --------------------\n",
      "------------------------------------------------------------\n",
      "Elapsed on iteration: 0.0067 seconds\n",
      "------------------------------------------------------------\n",
      "-------------------- Running Iteration: 2 --------------------\n",
      "------------------------------------------------------------\n",
      "Elapsed on iteration: 0.0059 seconds\n",
      "------------------------------------------------------------\n",
      "-------------------- Running Iteration: 3 --------------------\n",
      "------------------------------------------------------------\n",
      "Elapsed on iteration: 0.0096 seconds\n",
      "------------------------------------------------------------\n",
      "-------------------- Running Iteration: 4 --------------------\n",
      "------------------------------------------------------------\n",
      "Elapsed on iteration: 0.0065 seconds\n",
      "------------------------------------------------------------\n",
      "-------------------- Running Iteration: 5 --------------------\n",
      "------------------------------------------------------------\n",
      "Elapsed on iteration: 0.0079 seconds\n",
      "------------------------------------------------------------\n",
      "-------------------- Running Iteration: 6 --------------------\n",
      "------------------------------------------------------------\n",
      "Elapsed on iteration: 0.0055 seconds\n",
      "------------------------------------------------------------\n",
      "-------------------- Running Iteration: 7 --------------------\n",
      "------------------------------------------------------------\n",
      "Elapsed on iteration: 0.0053 seconds\n",
      "------------------------------------------------------------\n",
      "-------------------- Running Iteration: 8 --------------------\n",
      "------------------------------------------------------------\n",
      "Elapsed on iteration: 0.0053 seconds\n",
      "------------------------------------------------------------\n",
      "-------------------- Running Iteration: 9 --------------------\n",
      "------------------------------------------------------------\n",
      "Elapsed on iteration: 0.0049 seconds\n",
      "------------------------------------------------------------\n",
      "-------------------- Running Iteration: 10 --------------------\n",
      "------------------------------------------------------------\n",
      "Elapsed on iteration: 0.0051 seconds\n",
      "------------------------------------------------------------\n",
      "-------------------- Running Iteration: 11 --------------------\n",
      "------------------------------------------------------------\n",
      "Elapsed on iteration: 0.0049 seconds\n",
      "------------------------------------------------------------\n",
      "-------------------- Running Iteration: 12 --------------------\n",
      "------------------------------------------------------------\n",
      "Elapsed on iteration: 0.0046 seconds\n",
      "------------------------------------------------------------\n",
      "-------------------- Running Iteration: 13 --------------------\n",
      "------------------------------------------------------------\n",
      "Elapsed on iteration: 0.0045 seconds\n",
      "------------------------------------------------------------\n",
      "-------------------- Running Iteration: 14 --------------------\n",
      "------------------------------------------------------------\n",
      "Elapsed on iteration: 0.0042 seconds\n",
      "------------------------------------------------------------\n",
      "-------------------- Running Iteration: 15 --------------------\n",
      "------------------------------------------------------------\n",
      "Elapsed on iteration: 0.0043 seconds\n",
      "------------------------------------------------------------\n",
      "-------------------- Running Iteration: 16 --------------------\n",
      "------------------------------------------------------------\n",
      "Elapsed on iteration: 0.0038 seconds\n",
      "------------------------------------------------------------\n",
      "-------------------- Running Iteration: 17 --------------------\n",
      "------------------------------------------------------------\n",
      "Elapsed on iteration: 0.0036 seconds\n",
      "------------------------------------------------------------\n",
      "-------------------- Running Iteration: 18 --------------------\n",
      "------------------------------------------------------------\n",
      "Elapsed on iteration: 0.004 seconds\n",
      "------------------------------------------------------------\n",
      "-------------------- Running Iteration: 19 --------------------\n",
      "------------------------------------------------------------\n",
      "Elapsed on iteration: 0.004 seconds\n",
      "------------------------------------------------------------\n",
      "-------------------- Running Iteration: 20 --------------------\n",
      "------------------------------------------------------------\n",
      "Elapsed on iteration: 0.0039 seconds\n",
      "------------------------------------------------------------\n",
      "-------------------- Running Iteration: 21 --------------------\n",
      "------------------------------------------------------------\n",
      "Elapsed on iteration: 0.0037 seconds\n",
      "------------------------------------------------------------\n",
      "-------------------- Running Iteration: 22 --------------------\n",
      "------------------------------------------------------------\n",
      "Elapsed on iteration: 0.0034 seconds\n",
      "------------------------------------------------------------\n",
      "-------------------- Running Iteration: 23 --------------------\n",
      "------------------------------------------------------------\n",
      "Elapsed on iteration: 0.0036 seconds\n",
      "------------------------------------------------------------\n",
      "-------------------- Running Iteration: 24 --------------------\n",
      "------------------------------------------------------------\n",
      "Elapsed on iteration: 0.0034 seconds\n",
      "------------------------------------------------------------\n",
      "-------------------- Running Iteration: 25 --------------------\n",
      "------------------------------------------------------------\n",
      "Elapsed on iteration: 0.0034 seconds\n",
      "------------------------------------------------------------\n",
      "-------------------- Running Iteration: 26 --------------------\n",
      "------------------------------------------------------------\n",
      "Elapsed on iteration: 0.004 seconds\n",
      "------------------------------------------------------------\n",
      "-------------------- Running Iteration: 27 --------------------\n",
      "------------------------------------------------------------\n",
      "Elapsed on iteration: 0.0036 seconds\n",
      "------------------------------------------------------------\n",
      "-------------------- Running Iteration: 28 --------------------\n",
      "------------------------------------------------------------\n",
      "Elapsed on iteration: 0.0037 seconds\n",
      "------------------------------------------------------------\n",
      "-------------------- Running Iteration: 29 --------------------\n",
      "------------------------------------------------------------\n",
      "Elapsed on iteration: 0.0037 seconds\n",
      "Maximum iterations reached\n",
      "Elapsed: 0.1543 seconds\n"
     ]
    }
   ],
   "source": [
    "print(\"Calling EMVectorByFeature\")\n",
    "em = EmVectorByFeature(explicit_model=pm,\n",
    "                       max_iter=30)\n",
    "em.em()"
   ]
  },
  {
   "cell_type": "markdown",
   "metadata": {},
   "source": [
    "### Compute GFLM"
   ]
  },
  {
   "cell_type": "code",
   "execution_count": 14,
   "metadata": {},
   "outputs": [
    {
     "name": "stdout",
     "output_type": "stream",
     "text": [
      "    gflm_word  section_id  implicit_feature_id\n",
      "0    0.380884           2                    0\n",
      "1    0.748721          12                    0\n",
      "2    0.653669          22                    0\n",
      "3    0.569295          26                    0\n",
      "4    0.358128          57                    0\n",
      "5    0.359517          65                    0\n",
      "6    0.406727          83                    0\n",
      "7    0.357672          90                    0\n",
      "8    0.353637          94                    0\n",
      "9    0.354839          99                    0\n",
      "10   0.553098          11                    1\n",
      "11   0.737475          13                    1\n",
      "12   0.737475          14                    1\n",
      "13   0.428765          18                    1\n",
      "14   0.434852          19                    1\n",
      "15   0.400439          37                    1\n",
      "16   0.400454          43                    1\n",
      "17   0.554452          44                    1\n",
      "18   0.393325          47                    1\n",
      "19   0.479416          50                    1\n",
      "    gflm_section  section_id  implicit_feature_id\n",
      "0       0.922243           2                    0\n",
      "1       0.506678           5                    0\n",
      "2       0.380227           6                    0\n",
      "3       1.000000          12                    0\n",
      "4       0.906740          16                    0\n",
      "5       0.389259          17                    0\n",
      "6       0.350884          20                    0\n",
      "7       1.000000          22                    0\n",
      "8       0.353552          24                    0\n",
      "9       1.000000          26                    0\n",
      "10      0.625825          32                    0\n",
      "11      0.357441          35                    0\n",
      "12      0.635729          36                    0\n",
      "13      0.607449          38                    0\n",
      "14      0.818179          42                    0\n",
      "15      0.432736          46                    0\n",
      "16      0.701840          48                    0\n",
      "17      0.616562          51                    0\n",
      "18      0.502605          52                    0\n",
      "19      0.647826          53                    0\n"
     ]
    }
   ],
   "source": [
    "gflm = GFLM(em_results=em, section_threshold=0.35, word_threshold=0.35)\n",
    "gflm.calc_gflm_section()\n",
    "gflm.calc_gflm_word()\n",
    "\n",
    "print(gflm.gflm_word.head(20))\n",
    "print(gflm.gflm_section.head(20))"
   ]
  },
  {
   "cell_type": "markdown",
   "metadata": {},
   "source": [
    "## TODO: Display tagged text"
   ]
  },
  {
   "cell_type": "markdown",
   "metadata": {},
   "source": [
    "## TODO: Call only the wrapper function"
   ]
  }
 ],
 "metadata": {
  "kernelspec": {
   "display_name": "Python 3",
   "language": "python",
   "name": "python3"
  },
  "language_info": {
   "codemirror_mode": {
    "name": "ipython",
    "version": 3
   },
   "file_extension": ".py",
   "mimetype": "text/x-python",
   "name": "python",
   "nbconvert_exporter": "python",
   "pygments_lexer": "ipython3",
   "version": "3.7.1"
  }
 },
 "nbformat": 4,
 "nbformat_minor": 1
}
